{
 "cells": [
  {
   "cell_type": "code",
   "execution_count": 1,
   "id": "40a6bf27",
   "metadata": {},
   "outputs": [],
   "source": [
    "from transformers import DetrImageProcessor, DetrForObjectDetection\n",
    "import torch\n",
    "from PIL import Image, ImageDraw\n",
    "import requests\n",
    "import random\n",
    "from os import listdir\n",
    "from os.path import isfile, join, splitext\n",
    "from functools import reduce"
   ]
  },
  {
   "cell_type": "code",
   "execution_count": 2,
   "id": "3201fb76",
   "metadata": {},
   "outputs": [
    {
     "name": "stderr",
     "output_type": "stream",
     "text": [
      "/Users/philip/miniforge3/lib/python3.10/site-packages/transformers/models/detr/image_processing_detr.py:776: FutureWarning: The `max_size` parameter is deprecated and will be removed in v4.26. Please specify in `size['longest_edge'] instead`.\n",
      "  warnings.warn(\n"
     ]
    }
   ],
   "source": [
    "detr_resnet50_processor = DetrImageProcessor.from_pretrained(\"facebook/detr-resnet-50\")\n",
    "detr_resnet50_model = DetrForObjectDetection.from_pretrained(\"facebook/detr-resnet-50\")"
   ]
  },
  {
   "cell_type": "code",
   "execution_count": 3,
   "id": "f6330492",
   "metadata": {},
   "outputs": [],
   "source": [
    "def isimage(path):\n",
    "    if not isfile(path):\n",
    "        return False\n",
    "    file_name, file_extension = splitext(path)\n",
    "    return file_extension == \".jpg\"\n",
    "\n",
    "\n",
    "def get_image(images_dir = \"./images\"):\n",
    "    return Image.open(join(images_dir, random.choice([f for f in listdir(images_dir) if isimage(join(images_dir, f))])))\n",
    "\n",
    "def get_line_for_points(points):\n",
    "    # get to y = c + slope*x\n",
    "    slope = (points[0][1] - points[1][1]) / (points[0][0] - points[1][0]) \n",
    "    # c = y - slope*x\n",
    "    c = points[0][1] - slope * points[0][0]\n",
    "    return lambda x: c + slope * x\n",
    "\n",
    "def is_point_above_line(line, coords):\n",
    "    return line(coords[0]) < coords[1]\n",
    "\n",
    "def is_box_above_line(line, box_coords):\n",
    "    return reduce(lambda f, cf: cf and f, list(map(lambda point: is_point_above_line(line, point), box_coords)))\n"
   ]
  },
  {
   "cell_type": "code",
   "execution_count": 4,
   "id": "ccf547f9",
   "metadata": {},
   "outputs": [],
   "source": [
    "def run_detection(image, processor, model, scaled_divider_separator_coords, target_labels, threshold=0.7):\n",
    "    rs = []\n",
    "    [image_width, image_height] = get_image().size\n",
    "    divider_separator_coords = list(map(lambda coord: (coord[0] * image_width, coord[1] * image_height), scaled_divider_separator_coords))\n",
    "    line = get_line_for_points(divider_separator_coords)\n",
    "    \n",
    "    inputs = processor(images=image, return_tensors=\"pt\")\n",
    "    outputs = model(**inputs)\n",
    "\n",
    "    # convert outputs (bounding boxes and class logits) to COCO API\n",
    "    target_sizes = torch.tensor([image.size[::-1]])\n",
    "    results = processor.post_process_object_detection(outputs, target_sizes=target_sizes, threshold=threshold)[0]\n",
    "\n",
    "    image_overlay = ImageDraw.Draw(image)\n",
    "    \n",
    "    for score, label, box in zip(results[\"scores\"], results[\"labels\"], results[\"boxes\"]):\n",
    "        box = [round(i, 2) for i in box.tolist()]\n",
    "        lbl = model.config.id2label[label.item()]\n",
    "        \n",
    "        if lbl not in target_labels:\n",
    "            continue\n",
    "        \n",
    "        # reverse coords (top left is 0,0)\n",
    "        is_above = not is_box_above_line(line, [(box[0], box[1]), (box[2], box[3])])\n",
    "        image_overlay.rectangle((box[0], box[1], box[2], box[3]), outline=\"blue\" if is_above else \"yellow\", width=3)\n",
    "\n",
    "        rs.append({ \"label\": lbl, \"box\": box, \"side\": \"right\" if is_above else \"left\", \"score\": round(score.item(), 3)})\n",
    "        \n",
    "        \n",
    "    # lane separator\n",
    "    image_overlay.line(divider_separator_coords, width=5, fill=\"green\")\n",
    "\n",
    "    return [rs, image]\n"
   ]
  },
  {
   "cell_type": "code",
   "execution_count": 5,
   "id": "fdd42033",
   "metadata": {},
   "outputs": [
    {
     "ename": "NameError",
     "evalue": "name 'is_above_line' is not defined",
     "output_type": "error",
     "traceback": [
      "\u001b[0;31m---------------------------------------------------------------------------\u001b[0m",
      "\u001b[0;31mNameError\u001b[0m                                 Traceback (most recent call last)",
      "Cell \u001b[0;32mIn[5], line 1\u001b[0m\n\u001b[0;32m----> 1\u001b[0m [results, image] \u001b[38;5;241m=\u001b[39m \u001b[43mrun_detection\u001b[49m\u001b[43m(\u001b[49m\u001b[43mget_image\u001b[49m\u001b[43m(\u001b[49m\u001b[43m)\u001b[49m\u001b[43m,\u001b[49m\u001b[43m \u001b[49m\u001b[43mdetr_resnet50_processor\u001b[49m\u001b[43m,\u001b[49m\u001b[43m \u001b[49m\u001b[43mdetr_resnet50_model\u001b[49m\u001b[43m,\u001b[49m\u001b[43m \u001b[49m\u001b[43m[\u001b[49m\u001b[43m(\u001b[49m\u001b[38;5;241;43m0.05\u001b[39;49m\u001b[43m,\u001b[49m\u001b[43m \u001b[49m\u001b[38;5;241;43m0\u001b[39;49m\u001b[43m)\u001b[49m\u001b[43m,\u001b[49m\u001b[43m \u001b[49m\u001b[43m(\u001b[49m\u001b[38;5;241;43m0.61\u001b[39;49m\u001b[43m,\u001b[49m\u001b[43m \u001b[49m\u001b[38;5;241;43m1\u001b[39;49m\u001b[43m)\u001b[49m\u001b[43m]\u001b[49m\u001b[43m,\u001b[49m\u001b[43m \u001b[49m\u001b[43m[\u001b[49m\u001b[38;5;124;43m'\u001b[39;49m\u001b[38;5;124;43mcar\u001b[39;49m\u001b[38;5;124;43m'\u001b[39;49m\u001b[43m,\u001b[49m\u001b[43m \u001b[49m\u001b[38;5;124;43m'\u001b[39;49m\u001b[38;5;124;43mmotorcycle\u001b[39;49m\u001b[38;5;124;43m'\u001b[39;49m\u001b[43m,\u001b[49m\u001b[43m \u001b[49m\u001b[38;5;124;43m'\u001b[39;49m\u001b[38;5;124;43mbus\u001b[39;49m\u001b[38;5;124;43m'\u001b[39;49m\u001b[43m,\u001b[49m\u001b[43m \u001b[49m\u001b[38;5;124;43m'\u001b[39;49m\u001b[38;5;124;43mtruck\u001b[39;49m\u001b[38;5;124;43m'\u001b[39;49m\u001b[43m]\u001b[49m\u001b[43m,\u001b[49m\u001b[43m \u001b[49m\u001b[38;5;241;43m0.7\u001b[39;49m\u001b[43m)\u001b[49m\n\u001b[1;32m      2\u001b[0m image\n",
      "Cell \u001b[0;32mIn[4], line 24\u001b[0m, in \u001b[0;36mrun_detection\u001b[0;34m(image, processor, model, scaled_divider_separator_coords, target_labels, threshold)\u001b[0m\n\u001b[1;32m     21\u001b[0m     \u001b[38;5;28;01mcontinue\u001b[39;00m\n\u001b[1;32m     23\u001b[0m \u001b[38;5;66;03m# reverse coords (top left is 0,0)\u001b[39;00m\n\u001b[0;32m---> 24\u001b[0m is_above \u001b[38;5;241m=\u001b[39m \u001b[38;5;129;01mnot\u001b[39;00m \u001b[43mis_box_above_line\u001b[49m\u001b[43m(\u001b[49m\u001b[43mline\u001b[49m\u001b[43m,\u001b[49m\u001b[43m \u001b[49m\u001b[43m[\u001b[49m\u001b[43m(\u001b[49m\u001b[43mbox\u001b[49m\u001b[43m[\u001b[49m\u001b[38;5;241;43m0\u001b[39;49m\u001b[43m]\u001b[49m\u001b[43m,\u001b[49m\u001b[43m \u001b[49m\u001b[43mbox\u001b[49m\u001b[43m[\u001b[49m\u001b[38;5;241;43m1\u001b[39;49m\u001b[43m]\u001b[49m\u001b[43m)\u001b[49m\u001b[43m,\u001b[49m\u001b[43m \u001b[49m\u001b[43m(\u001b[49m\u001b[43mbox\u001b[49m\u001b[43m[\u001b[49m\u001b[38;5;241;43m2\u001b[39;49m\u001b[43m]\u001b[49m\u001b[43m,\u001b[49m\u001b[43m \u001b[49m\u001b[43mbox\u001b[49m\u001b[43m[\u001b[49m\u001b[38;5;241;43m3\u001b[39;49m\u001b[43m]\u001b[49m\u001b[43m)\u001b[49m\u001b[43m]\u001b[49m\u001b[43m)\u001b[49m\n\u001b[1;32m     25\u001b[0m image_overlay\u001b[38;5;241m.\u001b[39mrectangle((box[\u001b[38;5;241m0\u001b[39m], box[\u001b[38;5;241m1\u001b[39m], box[\u001b[38;5;241m2\u001b[39m], box[\u001b[38;5;241m3\u001b[39m]), outline\u001b[38;5;241m=\u001b[39m\u001b[38;5;124m\"\u001b[39m\u001b[38;5;124mblue\u001b[39m\u001b[38;5;124m\"\u001b[39m \u001b[38;5;28;01mif\u001b[39;00m is_above \u001b[38;5;28;01melse\u001b[39;00m \u001b[38;5;124m\"\u001b[39m\u001b[38;5;124myellow\u001b[39m\u001b[38;5;124m\"\u001b[39m, width\u001b[38;5;241m=\u001b[39m\u001b[38;5;241m3\u001b[39m)\n\u001b[1;32m     27\u001b[0m rs\u001b[38;5;241m.\u001b[39mappend({ \u001b[38;5;124m\"\u001b[39m\u001b[38;5;124mlabel\u001b[39m\u001b[38;5;124m\"\u001b[39m: lbl, \u001b[38;5;124m\"\u001b[39m\u001b[38;5;124mbox\u001b[39m\u001b[38;5;124m\"\u001b[39m: box, \u001b[38;5;124m\"\u001b[39m\u001b[38;5;124mside\u001b[39m\u001b[38;5;124m\"\u001b[39m: \u001b[38;5;124m\"\u001b[39m\u001b[38;5;124mright\u001b[39m\u001b[38;5;124m\"\u001b[39m \u001b[38;5;28;01mif\u001b[39;00m is_above \u001b[38;5;28;01melse\u001b[39;00m \u001b[38;5;124m\"\u001b[39m\u001b[38;5;124mleft\u001b[39m\u001b[38;5;124m\"\u001b[39m, \u001b[38;5;124m\"\u001b[39m\u001b[38;5;124mscore\u001b[39m\u001b[38;5;124m\"\u001b[39m: \u001b[38;5;28mround\u001b[39m(score\u001b[38;5;241m.\u001b[39mitem(), \u001b[38;5;241m3\u001b[39m)})\n",
      "Cell \u001b[0;32mIn[3], line 22\u001b[0m, in \u001b[0;36mis_box_above_line\u001b[0;34m(line, box_coords)\u001b[0m\n\u001b[1;32m     21\u001b[0m \u001b[38;5;28;01mdef\u001b[39;00m \u001b[38;5;21mis_box_above_line\u001b[39m(line, box_coords):\n\u001b[0;32m---> 22\u001b[0m     \u001b[38;5;28;01mreturn\u001b[39;00m reduce(\u001b[38;5;28;01mlambda\u001b[39;00m f, cf: cf \u001b[38;5;129;01mand\u001b[39;00m f, \u001b[38;5;28;43mlist\u001b[39;49m\u001b[43m(\u001b[49m\u001b[38;5;28;43mmap\u001b[39;49m\u001b[43m(\u001b[49m\u001b[38;5;28;43;01mlambda\u001b[39;49;00m\u001b[43m \u001b[49m\u001b[43mpoint\u001b[49m\u001b[43m:\u001b[49m\u001b[43m \u001b[49m\u001b[43mis_above_line\u001b[49m\u001b[43m(\u001b[49m\u001b[43mline\u001b[49m\u001b[43m,\u001b[49m\u001b[43m \u001b[49m\u001b[43mpoint\u001b[49m\u001b[43m)\u001b[49m\u001b[43m,\u001b[49m\u001b[43m \u001b[49m\u001b[43mbox_coords\u001b[49m\u001b[43m)\u001b[49m\u001b[43m)\u001b[49m)\n",
      "Cell \u001b[0;32mIn[3], line 22\u001b[0m, in \u001b[0;36mis_box_above_line.<locals>.<lambda>\u001b[0;34m(point)\u001b[0m\n\u001b[1;32m     21\u001b[0m \u001b[38;5;28;01mdef\u001b[39;00m \u001b[38;5;21mis_box_above_line\u001b[39m(line, box_coords):\n\u001b[0;32m---> 22\u001b[0m     \u001b[38;5;28;01mreturn\u001b[39;00m reduce(\u001b[38;5;28;01mlambda\u001b[39;00m f, cf: cf \u001b[38;5;129;01mand\u001b[39;00m f, \u001b[38;5;28mlist\u001b[39m(\u001b[38;5;28mmap\u001b[39m(\u001b[38;5;28;01mlambda\u001b[39;00m point: \u001b[43mis_above_line\u001b[49m(line, point), box_coords)))\n",
      "\u001b[0;31mNameError\u001b[0m: name 'is_above_line' is not defined"
     ]
    }
   ],
   "source": [
    "[results, image] = run_detection(get_image(), detr_resnet50_processor, detr_resnet50_model, [(0.05, 0), (0.61, 1)], ['car', 'motorcycle', 'bus', 'truck'], 0.7)\n",
    "image"
   ]
  },
  {
   "cell_type": "code",
   "execution_count": null,
   "id": "cb6c6649",
   "metadata": {},
   "outputs": [],
   "source": []
  }
 ],
 "metadata": {
  "kernelspec": {
   "display_name": "Python 3 (ipykernel)",
   "language": "python",
   "name": "python3"
  },
  "language_info": {
   "codemirror_mode": {
    "name": "ipython",
    "version": 3
   },
   "file_extension": ".py",
   "mimetype": "text/x-python",
   "name": "python",
   "nbconvert_exporter": "python",
   "pygments_lexer": "ipython3",
   "version": "3.10.9"
  }
 },
 "nbformat": 4,
 "nbformat_minor": 5
}
